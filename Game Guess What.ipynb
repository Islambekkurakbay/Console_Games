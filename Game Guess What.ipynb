{
 "cells": [
  {
   "cell_type": "code",
   "execution_count": 4,
   "id": "4f485b72",
   "metadata": {},
   "outputs": [
    {
     "name": "stdout",
     "output_type": "stream",
     "text": [
      "Hey! Guess what!\n",
      "wha\n",
      "You really wanna know?\n",
      "yeah\n",
      "...\n",
      "Fuck You!\n",
      "\n",
      "What's your name?\n",
      "Tony\n",
      "Fuck you, Tony!\n"
     ]
    }
   ],
   "source": [
    "print(f'Hey! Guess what!')\n",
    "x = input()\n",
    "if(x in ['What?', 'what', 'What', 'what?','wha?','wha']):\n",
    "    print(\"You really wanna know?\")\n",
    "    y = input()\n",
    "    if(y in ['Yes', 'yees', 'yes', 'yes!', 'yes.', 'Yes!','Y','yeah']):\n",
    "        print('...')\n",
    "        print('Fuck You!')\n",
    "    else:\n",
    "        print(\"Fuck youuu!\")\n",
    "input()\n",
    "print(\"What's your name?\")\n",
    "name = input()\n",
    "print(f'Fuck you, {name}!')\n"
   ]
  },
  {
   "cell_type": "code",
   "execution_count": null,
   "id": "d6fa8b77",
   "metadata": {},
   "outputs": [],
   "source": []
  }
 ],
 "metadata": {
  "kernelspec": {
   "display_name": "Python 3",
   "language": "python",
   "name": "python3"
  },
  "language_info": {
   "codemirror_mode": {
    "name": "ipython",
    "version": 3
   },
   "file_extension": ".py",
   "mimetype": "text/x-python",
   "name": "python",
   "nbconvert_exporter": "python",
   "pygments_lexer": "ipython3",
   "version": "3.8.8"
  }
 },
 "nbformat": 4,
 "nbformat_minor": 5
}
