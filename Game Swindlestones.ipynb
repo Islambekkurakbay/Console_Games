{
 "cells": [
  {
   "cell_type": "markdown",
   "id": "0c58a330",
   "metadata": {},
   "source": [
    "### Rule:\n",
    "#### You are given 3 dices each having up to 4 dots. Take a turn and guess how many common shared dots you have with your opponent"
   ]
  },
  {
   "cell_type": "code",
   "execution_count": 17,
   "id": "31b2d540",
   "metadata": {},
   "outputs": [
    {
     "data": {
      "text/plain": [
       "[1, 1, 4]"
      ]
     },
     "execution_count": 17,
     "metadata": {},
     "output_type": "execute_result"
    }
   ],
   "source": [
    "import random\n",
    "\n",
    "def random_dices():\n",
    "    return [random.randint(1,4) for i in range(3)]\n",
    "\n"
   ]
  }
 ],
 "metadata": {
  "kernelspec": {
   "display_name": "Python 3",
   "language": "python",
   "name": "python3"
  },
  "language_info": {
   "codemirror_mode": {
    "name": "ipython",
    "version": 3
   },
   "file_extension": ".py",
   "mimetype": "text/x-python",
   "name": "python",
   "nbconvert_exporter": "python",
   "pygments_lexer": "ipython3",
   "version": "3.8.8"
  }
 },
 "nbformat": 4,
 "nbformat_minor": 5
}
