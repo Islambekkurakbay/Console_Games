{
 "cells": [
  {
   "cell_type": "markdown",
   "id": "9f2ba51d",
   "metadata": {},
   "source": [
    "### Rule: \n",
    "#### You are given n bricks. Take 1,2 or 3 bricks with a robot. Who takes the last brick(s) wins!"
   ]
  },
  {
   "cell_type": "code",
   "execution_count": 1,
   "id": "cdf58f1b",
   "metadata": {},
   "outputs": [
    {
     "name": "stdout",
     "output_type": "stream",
     "text": [
      "Would you like to play a game?\n",
      "Yes[Y] or No[n]: yes\n",
      "\n",
      "Start: 23\n",
      "Choose a number between 1 and 3: \n",
      "Your choice: 8\n",
      "Your choice: 2\n",
      "Left: 21\n",
      "Robot went for 1. Left: 20\n",
      "Your choice: 3\n",
      "Left: 17\n",
      "Robot went for 1. Left: 16\n",
      "Your choice: 1\n",
      "Left: 15\n",
      "Robot went for 3. Left: 12\n",
      "Your choice: 1\n",
      "Left: 11\n",
      "Robot went for 3. Left: 8\n",
      "Your choice: 2\n",
      "Left: 6\n",
      "Robot went for 2. Left: 4\n",
      "Your choice: 3\n",
      "Left: 1\n",
      "Robot went for 1. Left: 0\n",
      "Robot won!\n",
      "\n",
      "Would you like to play again?\n",
      "Yes[Y] or No[n]: y\n",
      "\n",
      "Start: 14\n",
      "Choose a number between 1 and 3: \n",
      "Your choice: 2\n",
      "Left: 12\n",
      "Robot went for 3. Left: 9\n",
      "Your choice: 1\n",
      "Left: 8\n",
      "Robot went for 1. Left: 7\n",
      "Your choice: 3\n",
      "Left: 4\n",
      "Robot went for 2. Left: 2\n",
      "Your choice: 2\n",
      "Left: 0\n",
      "You win!\n",
      "\n",
      "Would you like to play again?\n",
      "Yes[Y] or No[n]: n\n",
      "Total played 2. You won 1 times. \n"
     ]
    }
   ],
   "source": [
    "import random\n",
    "\n",
    "count_win = 0\n",
    "count_lose = 0\n",
    "\n",
    "print(\"Would you like to play a game?\")\n",
    "answer = input(\"Yes[Y] or No[n]: \")\n",
    "\n",
    "while answer in ['Yes', 'Y', 'y', 'yes']:\n",
    "    print()\n",
    "    try:\n",
    "        a = random.randint(4,30)\n",
    "        print(f'Start: {a}')\n",
    "        print(\"Choose a number between 1 and 3: \")\n",
    "        while a >= 0:\n",
    "            try:\n",
    "                user = int(input(\"Your choice: \"))\n",
    "            except:\n",
    "                print(\"Please, input a number between 1 and 3.\")\n",
    "                continue\n",
    "        \n",
    "            if(user >= 1 and user <= 3):\n",
    "                a -= user\n",
    "                print(f'Left: {a}')\n",
    "                if(a <= 0):\n",
    "                    print(\"You win!\")\n",
    "                    print()\n",
    "                    count_win += 1\n",
    "                    break\n",
    "            else:\n",
    "                continue\n",
    "                \n",
    "            if(abs(a+1)%4 == 0 and a!=0):\n",
    "                a-=3\n",
    "                print(f'Robot went for 3. Left: {a}')\n",
    "            elif(abs(a+2)%4 == 0 and a!=0):\n",
    "                a-=2\n",
    "                print(f'Robot went for 2. Left: {a}')\n",
    "            elif(abs(a+3)%4 == 0 and a!= 0):\n",
    "                a-=1\n",
    "                print(f'Robot went for 1. Left: {a}')\n",
    "            elif(a > 3):\n",
    "                robot = random.choice((1,2,3))\n",
    "                a -= robot\n",
    "                print(f'Robot went for {robot}. Left: {a}')\n",
    "            if(a<=0):\n",
    "                print(\"Robot won!\")\n",
    "                print()\n",
    "                count_lose += 1\n",
    "                break\n",
    "    finally:\n",
    "        print(\"Would you like to play again?\")\n",
    "        answer = input(\"Yes[Y] or No[n]: \")\n",
    "else:\n",
    "    print(f\"Total played {count_win + count_lose}. You won {count_win} times. \")\n",
    "    "
   ]
  },
  {
   "cell_type": "code",
   "execution_count": 8,
   "id": "e5adcb08",
   "metadata": {},
   "outputs": [
    {
     "data": {
      "text/plain": [
       "True"
      ]
     },
     "execution_count": 8,
     "metadata": {},
     "output_type": "execute_result"
    }
   ],
   "source": [
    "not 10<5"
   ]
  },
  {
   "cell_type": "code",
   "execution_count": 9,
   "id": "83c483dd",
   "metadata": {},
   "outputs": [
    {
     "data": {
      "text/plain": [
       "False"
      ]
     },
     "execution_count": 9,
     "metadata": {},
     "output_type": "execute_result"
    }
   ],
   "source": [
    "not 2<3"
   ]
  },
  {
   "cell_type": "code",
   "execution_count": 1,
   "id": "e5a45398",
   "metadata": {},
   "outputs": [],
   "source": [
    "count_lose = 0\n",
    "count_win = 0\n",
    "def game_choice():\n",
    "    '''\n",
    "    function to start a game\n",
    "    '''\n",
    "    a = random.randint(1,50)\n",
    "    print(f'Start: {a}')\n",
    "    print(\"Choose a number between 1 and 3: \")\n",
    "    while a >= 0:\n",
    "        user = int(input(\"Your choice: \"))\n",
    "        if(user >= 1 and user <= 3):\n",
    "            a -= user\n",
    "            print(f'Left: {a}')\n",
    "            if(a == 0):\n",
    "                print(\"You win!\")\n",
    "                count_win += 1\n",
    "                break\n",
    "        if(a > 3):\n",
    "            robot = random.choice((1,2,3))\n",
    "            a -= robot\n",
    "            print(f'Robot went for {robot}. Left: {a}')\n",
    "        else:\n",
    "            print(\"Robot won!\")\n",
    "            count_lose += 1\n",
    "            break"
   ]
  },
  {
   "cell_type": "code",
   "execution_count": 9,
   "id": "4cea4d57",
   "metadata": {},
   "outputs": [
    {
     "name": "stdout",
     "output_type": "stream",
     "text": [
      "5400\n"
     ]
    }
   ],
   "source": [
    "q = 1000\n",
    "while q < 10000:\n",
    "    \n",
    "    w = q%10\n",
    "    e = q//10%10\n",
    "    r = q//100%10\n",
    "    t = q//1000%10\n",
    "    if(q/(w+e+r+t) == 600):\n",
    "        print(q)\n",
    "        \n",
    "    q = q + 1"
   ]
  },
  {
   "cell_type": "code",
   "execution_count": 6,
   "id": "c46682e2",
   "metadata": {},
   "outputs": [
    {
     "name": "stdout",
     "output_type": "stream",
     "text": [
      "1 2 4 5\n"
     ]
    }
   ],
   "source": [
    "q = 5421\n",
    "w = q%10\n",
    "e = q//10%10\n",
    "r = q//100%10\n",
    "t = q//1000%10\n",
    "print(w,e,r,t)"
   ]
  }
 ],
 "metadata": {
  "kernelspec": {
   "display_name": "Python 3",
   "language": "python",
   "name": "python3"
  },
  "language_info": {
   "codemirror_mode": {
    "name": "ipython",
    "version": 3
   },
   "file_extension": ".py",
   "mimetype": "text/x-python",
   "name": "python",
   "nbconvert_exporter": "python",
   "pygments_lexer": "ipython3",
   "version": "3.8.8"
  }
 },
 "nbformat": 4,
 "nbformat_minor": 5
}
