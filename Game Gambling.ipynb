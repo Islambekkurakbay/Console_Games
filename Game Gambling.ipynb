{
 "cells": [
  {
   "cell_type": "markdown",
   "id": "70e0a3f6",
   "metadata": {},
   "source": [
    "### Online Casino "
   ]
  },
  {
   "cell_type": "code",
   "execution_count": 6,
   "id": "f7ef6865",
   "metadata": {},
   "outputs": [
    {
     "name": "stdout",
     "output_type": "stream",
     "text": [
      "Would you like to gamble? Yes[Y] or No[n]: y\n",
      "Your deposit: 1000$. How much you bet? 100\n",
      "You got 74\n",
      "\n",
      "Robot got 31\n",
      "\n",
      "You got 15\n",
      "\n",
      "Robot got 2\n",
      "\n",
      "You got 1\n",
      "\n",
      "You won.\n",
      "Your deposit: 1100$\n",
      "Would you like to play again? 435\n",
      "Would you like to play again? 34\n",
      "Would you like to play again? no\n",
      "\n",
      "You have 1100$ now\n"
     ]
    }
   ],
   "source": [
    "import random\n",
    "\n",
    "account = 1000\n",
    "ans = input(\"Would you like to gamble? Yes[Y] or No[n]: \")\n",
    "while ans in ['yes', 'y', 'Y','Yes', 'YES'] and account > 0:\n",
    "    bet = int(input(f\"Your deposit: {account}$. How much you bet? \"))\n",
    "    a = bet\n",
    "    if(bet>account):\n",
    "        continue\n",
    "    while bet != 1:\n",
    "        bet = random.randint(1,bet)\n",
    "        print(f\"You got {bet}\")\n",
    "        input()\n",
    "        if(bet==1):\n",
    "            account += a\n",
    "            print(f\"You won.\")\n",
    "            break\n",
    "        bet = random.randint(1,bet)\n",
    "        print(f'Robot got {bet}')\n",
    "        input()\n",
    "        if(bet==1):\n",
    "            account -= a\n",
    "            print(f\"You lose.\")\n",
    "            break\n",
    "    print(f\"Your deposit: {account}$\")\n",
    "    if(account == 0):\n",
    "        break\n",
    "    ans = input(f'Would you like to play again? ')\n",
    "    while ans.isdigit():\n",
    "        ans = input(f'Would you like to play again? ')\n",
    "        \n",
    "    print()\n",
    "if(account <= 0):\n",
    "    print('Your\\' broke')\n",
    "else:\n",
    "    print(f\"You have {account}$ now\")\n",
    "    "
   ]
  },
  {
   "cell_type": "code",
   "execution_count": 5,
   "id": "bbc39d6e",
   "metadata": {},
   "outputs": [
    {
     "data": {
      "text/plain": [
       "True"
      ]
     },
     "execution_count": 5,
     "metadata": {},
     "output_type": "execute_result"
    }
   ],
   "source": [
    "'45346'.isdigit()"
   ]
  },
  {
   "cell_type": "code",
   "execution_count": null,
   "id": "1db4cf86",
   "metadata": {},
   "outputs": [],
   "source": []
  },
  {
   "cell_type": "code",
   "execution_count": null,
   "id": "7501843a",
   "metadata": {},
   "outputs": [],
   "source": []
  },
  {
   "cell_type": "code",
   "execution_count": null,
   "id": "51d11633",
   "metadata": {},
   "outputs": [],
   "source": []
  }
 ],
 "metadata": {
  "kernelspec": {
   "display_name": "Python 3",
   "language": "python",
   "name": "python3"
  },
  "language_info": {
   "codemirror_mode": {
    "name": "ipython",
    "version": 3
   },
   "file_extension": ".py",
   "mimetype": "text/x-python",
   "name": "python",
   "nbconvert_exporter": "python",
   "pygments_lexer": "ipython3",
   "version": "3.8.8"
  }
 },
 "nbformat": 4,
 "nbformat_minor": 5
}
